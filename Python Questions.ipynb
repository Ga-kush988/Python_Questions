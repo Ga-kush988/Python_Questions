{
 "cells": [
  {
   "cell_type": "markdown",
   "id": "70ba8f98",
   "metadata": {},
   "source": [
    "# What is python?"
   ]
  },
  {
   "cell_type": "markdown",
   "id": "a7106136",
   "metadata": {},
   "source": [
    "Python is a versatile, high-level, general-purpose programming language known for its readability and ease of use. It's widely used in web development, data science, machine learning, and software development, among other fields. Python is designed to be interpreted, meaning that code is executed line by line without requiring compilation. \n",
    "\n",
    "Here's a more detailed look: \n",
    "\n",
    "1. Interpreted: Python is interpreted, so code is executed directly without compilation. \n",
    "\n",
    "2. High-level: It's considered a high-level language, meaning it's closer to human language than low-level languages. \n",
    "\n",
    "3. General-purpose: It's not specialized for any particular application but can be used for a wide range of tasks. \n",
    "\n",
    "4. Object-oriented: Python supports object-oriented programming principles, which helps in organizing code and building complex applications. \n",
    "\n",
    "5. Readability: Python's syntax is designed to be easy to read and understand. \n",
    "\n",
    "6. Dynamic typing: Variable types are not explicitly declared in the code, allowing for flexibility. \n",
    "\n",
    "7. Large standard library: Python comes with a rich set of built-in modules and functions for various tasks. "
   ]
  },
  {
   "cell_type": "markdown",
   "id": "dcac6f8c",
   "metadata": {},
   "source": [
    "## Areas where python is being used"
   ]
  },
  {
   "cell_type": "markdown",
   "id": "4bc96b3a",
   "metadata": {},
   "source": [
    "Python is extensively applied in data science, data analysis, machine learning, data engineering, web development, software development, and other fields."
   ]
  },
  {
   "cell_type": "markdown",
   "id": "a6d1fe16",
   "metadata": {},
   "source": [
    "## What is high level and low level language?"
   ]
  },
  {
   "cell_type": "markdown",
   "id": "f3ed4bd2",
   "metadata": {},
   "source": [
    "High-level languages are designed to be more human-readable and easier to understand, while low-level languages are closer to the machine's instructions and more difficult for humans to understand. High-level languages offer features that simplify programming tasks and are generally platform-independent. Low-level languages, on the other hand, provide more direct control over hardware but require a detailed knowledge of computer architecture. \n",
    "\n",
    "High-Level Languages:\n",
    "\n",
    "1. Human-readable: Designed to be more easily understood by humans than machine language. \n",
    "\n",
    "2. Abstraction: Abstract away many of the complexities of machine code, making it easier to write and understand. \n",
    "\n",
    "3. Platform-independent: Can be executed on various platforms with minimal modifications. \n",
    "\n",
    "4. Easier to debug: Debugging is often straightforward in high-level languages. \n",
    "\n",
    "5. Examples: Python, Java, C++, JavaScript. \n",
    "\n",
    "Low-Level Languages:\n",
    "\n",
    "1. Machine-friendly: Closer to the machine's instructions and easier for the machine to interpret.\n",
    "\n",
    "2. Machine-dependent: Often tied to a specific hardware architecture. \n",
    "\n",
    "3. More efficient: Can produce more efficient code through optimization for a specific system architecture. \n",
    "\n",
    "4. Direct control: Provide more direct control over hardware and resources. \n",
    "\n",
    "5. Examples: Assembly language, machine language. "
   ]
  },
  {
   "cell_type": "markdown",
   "id": "4a7fd973",
   "metadata": {},
   "source": [
    "## What is interpreted language?"
   ]
  },
  {
   "cell_type": "markdown",
   "id": "3b5e437d",
   "metadata": {},
   "source": [
    "An interpreted language is a type of programming language where the code is executed directly, line by line, without being compiled into machine code beforehand. Instead of a compiler translating the entire program, an interpreter reads and executes each instruction as it's encountered. "
   ]
  },
  {
   "cell_type": "markdown",
   "id": "5a9a29b3",
   "metadata": {},
   "source": [
    "Here's a more detailed explanation:\n",
    "\n",
    "1. No Compilation:\n",
    "Unlike compiled languages (like C++ or Java), interpreted languages don't require a separate compilation step where the entire program is converted into machine code. \n",
    "\n",
    "2. Line-by-Line Execution:\n",
    "The interpreter reads the source code and executes each line of code one at a time, interpreting it as it goes. \n",
    "\n",
    "3. Interpreter Required:\n",
    "To run an interpreted language program, you need an interpreter, which is a program that reads and executes the source code. \n",
    "\n",
    "4. Examples:\n",
    "Popular interpreted languages include Python, JavaScript, Ruby, Perl, and PHP. "
   ]
  },
  {
   "cell_type": "markdown",
   "id": "0f5d8297",
   "metadata": {},
   "source": [
    "## What is compiled language?"
   ]
  },
  {
   "cell_type": "markdown",
   "id": "b48dd605",
   "metadata": {},
   "source": [
    "A compiled language is a programming language where source code is translated into machine code or intermediate code (like bytecode) by a compiler before it is executed. This translation happens before runtime, resulting in an executable file that can be run directly by the computer's CPU or a virtual machine. \n",
    "\n",
    "\n",
    "Key characteristics of compiled languages:\n",
    "\n",
    "1. Pre-runtime translation:\n",
    "The entire source code is translated into machine code (or an intermediate representation like bytecode) by a compiler before the program is executed. \n",
    "\n",
    "2. Executable file:\n",
    "The output of the compilation process is an executable file, like a .exe file on Windows, which can be directly run by the operating system. \n",
    "\n",
    "3. Potentially faster execution:\n",
    "Since the translation is done upfront, the execution of the program can be faster, as there's no need to translate the code at runtime, says FreeCodeCamp. \n",
    "\n",
    "4. Platform-dependent (generally):\n",
    "Compiled languages often result in machine code that is specific to the architecture of the target platform. A program compiled on one system might not work on another system with a different CPU architecture, explains Naukri Code 360. "
   ]
  },
  {
   "cell_type": "markdown",
   "id": "860c1232",
   "metadata": {},
   "source": [
    "Examples of compiled languages:\n",
    "\n",
    "C, C++, C#\n",
    "\n",
    "Fortran\n",
    "\n",
    "Pascal\n",
    "\n",
    "COBOL "
   ]
  },
  {
   "cell_type": "markdown",
   "id": "a67a343f",
   "metadata": {},
   "source": [
    "## What is statically typed language?"
   ]
  },
  {
   "cell_type": "markdown",
   "id": "c80452ec",
   "metadata": {},
   "source": [
    "A statically typed language is one where the data type of a variable is known at compile time, meaning before the code is executed. This type information must be explicitly declared by the programmer, or in some cases, inferred by the compiler. Examples include C, C++, Java, and Pascal. "
   ]
  },
  {
   "cell_type": "markdown",
   "id": "d5ec0d86",
   "metadata": {},
   "source": [
    "## what is dynamically typed language"
   ]
  },
  {
   "cell_type": "markdown",
   "id": "ec7b728c",
   "metadata": {},
   "source": [
    "A dynamically typed language is a programming language where type checking is done at runtime rather than at compile time. This means that you don’t have to explicitly declare variable types—the language figures it out while the program is running.\n",
    "\n",
    "Key Characteristics:\n",
    "\n",
    "1. No type declarations required: You can assign any type of value to a variable without specifying the type.\n",
    "\n",
    "2. Flexible variable usage: A variable can be reassigned to different types over its lifetime.\n",
    "\n",
    "3. Type errors at runtime: If you perform invalid operations (like adding a string to an integer), the error will be detected only when that line is executed."
   ]
  },
  {
   "cell_type": "code",
   "execution_count": 3,
   "id": "84a8d2f8",
   "metadata": {},
   "outputs": [
    {
     "data": {
      "text/plain": [
       "'hello'"
      ]
     },
     "execution_count": 3,
     "metadata": {},
     "output_type": "execute_result"
    }
   ],
   "source": [
    "#Example in Python (a dynamically typed language):\n",
    "x = 10        # x is an integer\n",
    "x = \"hello\"   # now x is a string\n",
    "x"
   ]
  },
  {
   "cell_type": "markdown",
   "id": "52e12d93",
   "metadata": {},
   "source": [
    "#Common Dynamically Typed Languages:\n",
    "    \n",
    "1. Python\n",
    "\n",
    "2. JavaScript\n",
    "\n",
    "3. Ruby\n",
    "\n",
    "4. PHP\n",
    "\n",
    "5. Perl"
   ]
  },
  {
   "cell_type": "markdown",
   "id": "c9596ac7",
   "metadata": {},
   "source": [
    "## what is weekly typed language"
   ]
  },
  {
   "cell_type": "markdown",
   "id": "a3afee4f",
   "metadata": {},
   "source": [
    "A weakly typed language is a programming language that does not strictly enforce data types during compilation or runtime. It allows for implicit type conversions, meaning that the language can automatically convert a value from one type to another if the context suggests it, according to Medium. In essence, variables don't need to be explicitly declared with a specific type, and the language handles type conversions as needed during operations. \n"
   ]
  },
  {
   "cell_type": "markdown",
   "id": "fdb3bdbc",
   "metadata": {},
   "source": [
    "## what is strongly typed language"
   ]
  },
  {
   "cell_type": "markdown",
   "id": "07b04b19",
   "metadata": {},
   "source": [
    " A strongly typed language enforces strict type checking, meaning the compiler or interpreter will flag an error if an operation is attempted on incompatible data types. In essence, it ensures that variable types are known and consistent throughout the program's execution, helping to prevent errors at runtime. "
   ]
  },
  {
   "cell_type": "markdown",
   "id": "c1203caa",
   "metadata": {},
   "source": [
    "## what is  .PYC  File (byte code)?"
   ]
  },
  {
   "cell_type": "markdown",
   "id": "8cbf3a9a",
   "metadata": {},
   "source": [
    "pyc files are compiled bytecode files that are generated by the Python interpreter when a Python script is imported or executed. The . pyc files contain compiled bytecode that can be executed directly by the interpreter, without the need to recompile the source code every time the script is run."
   ]
  },
  {
   "cell_type": "markdown",
   "id": "885e643b",
   "metadata": {},
   "source": [
    "What is a .pyc File?\n",
    "\n",
    ".pyc stands for Python Compiled.\n",
    "\n",
    "It is generated automatically by Python when a .py script is run.\n",
    "\n",
    "The file contains bytecode, which is a lower-level, platform-independent representation of the code.\n",
    "\n",
    "Bytecode is what the Python interpreter (specifically the CPython VM) executes."
   ]
  },
  {
   "cell_type": "markdown",
   "id": "c85df6e9",
   "metadata": {},
   "source": [
    "## what is  PVM?"
   ]
  },
  {
   "cell_type": "markdown",
   "id": "f43ffc77",
   "metadata": {},
   "source": [
    "PVM (Parallel Virtual Machine) is a software system that allows a collection of heterogeneous computers to be treated as a single, powerful parallel computer. It essentially creates a \"virtual machine\" where different types of computers can work together on the same task. This virtual machine can consist of workstations, multiprocessors, supercomputers, and PCs, all connected over a network. "
   ]
  },
  {
   "cell_type": "markdown",
   "id": "bb803b55",
   "metadata": {},
   "source": [
    "## how python internally works?"
   ]
  },
  {
   "cell_type": "markdown",
   "id": "a62e3cdf",
   "metadata": {},
   "source": [
    "1. Code Editor: Code Editor is the first stage of programs where we write our source code. This is human-readable code written according to Python’s syntax rules. It is where the execution of the program starts first.\n",
    "\n",
    "2. Source code: The code written by a programmer in the code editor is then saved as a .py file in a system. This file of Python is written in human-readable language that contains the instructions for the computer.\n",
    "\n",
    "3. Compilation Stage: The compilation stage of Python is different from any other programming language. Rather than compiling a source code directly into machine code. python compiles a source code into a byte code. In the compilation stage python compiler also checks for syntax errors. after checking all the syntax errors, if no such error is found then it generates a .pyc file that contains bytecode.\n",
    "\n",
    "4. Python Virtual Machine(PVM): The bytecode then goes into the main part of the conversion is the Python Virtual Machine(PVM). The PVM is the main runtime engine of Python. It is an interpreter that reads and executes the bytecode file, line by line. Here In the Python Virtual Machine translate the byte code into machine code which is the binary language consisting of 0s and 1s. The machine code is highly optimized for the machine it is running on. This binary language is only understandable by the CPU of a system.\n",
    "\n",
    "5. Running Program: At last, the CPU executes the given machine code and the main outcome of the program comes as performing task and computation you scripted at the beginning of the stage in your code editor."
   ]
  },
  {
   "cell_type": "raw",
   "id": "d1c14987",
   "metadata": {},
   "source": [
    "#Component\t               Role\n",
    "\n",
    "1. Tokenizer (Lexer)\t  Converts code to tokens\n",
    "\n",
    "2. Parser\t             Builds AST from tokens\n",
    "\n",
    "3. Compiler\t             Turns AST into bytecode\n",
    "\n",
    "4. Interpreter (PVM)\t Executes bytecode line-by-line\n",
    "\n",
    "5. Memory Manager   \t Handles object allocation & garbage collection"
   ]
  },
  {
   "cell_type": "raw",
   "id": "a638a54d",
   "metadata": {},
   "source": [
    "Your Code (.py)\n",
    "   ↓\n",
    "Tokenization\n",
    "   ↓\n",
    "Parsing → Abstract Syntax Tree (AST)\n",
    "   ↓\n",
    "Compilation → Bytecode (.pyc)\n",
    "   ↓\n",
    "Execution → Python Virtual Machine (PVM)\n"
   ]
  },
  {
   "cell_type": "markdown",
   "id": "09e84fde",
   "metadata": {},
   "source": [
    "## What is PEP8?"
   ]
  },
  {
   "cell_type": "markdown",
   "id": "660a628b",
   "metadata": {},
   "source": [
    "PEP 8 is the official style guide for Python code, providing guidelines for writing readable and consistent code. It focuses on code layout, formatting, and naming conventions to improve code quality and readability. Adhering to PEP 8 makes your code easier to understand, maintain, and collaborate on. "
   ]
  },
  {
   "cell_type": "markdown",
   "id": "91d8e232",
   "metadata": {},
   "source": [
    "## What is PIP and What is use of PIP?"
   ]
  },
  {
   "cell_type": "markdown",
   "id": "0dcc172b",
   "metadata": {},
   "source": [
    "pip (also known by Python 3's alias pip3) is a package-management system written in Python and is used to install and manage software packages. The Python Software Foundation recommends using pip for installing Python applications and its dependencies during deployment."
   ]
  },
  {
   "cell_type": "markdown",
   "id": "90b8afe6",
   "metadata": {},
   "source": [
    "## What is byte code and when it is created?"
   ]
  },
  {
   "cell_type": "markdown",
   "id": "d9358b4b",
   "metadata": {},
   "source": [
    "Bytecode is an intermediate, platform-independent code generated by a compiler during the compilation of source code. It's not directly executable by the CPU but is interpreted by a virtual machine (VM) which then translates it into machine-executable instructions for the specific platform. "
   ]
  },
  {
   "cell_type": "markdown",
   "id": "90e33f9a",
   "metadata": {},
   "source": [
    "## What is indentation  in python ? Does python rely on indentation?"
   ]
  },
  {
   "cell_type": "markdown",
   "id": "3eb8d667",
   "metadata": {},
   "source": [
    " Indentation refers to the spaces at the beginning of a code line. Where in other programming languages the indentation in code is for readability only, the indentation in Python is very important. Python uses indentation to indicate a block of code."
   ]
  },
  {
   "cell_type": "markdown",
   "id": "dc27741f",
   "metadata": {},
   "source": [
    "Indentation refers to the whitespace (spaces or tabs) used at the beginning of a line of code to define the structure and hierarchy of the program. It’s used to indicate which statements are part of the same block (such as loops, functions, and conditionals)."
   ]
  },
  {
   "cell_type": "markdown",
   "id": "bc835868",
   "metadata": {},
   "source": [
    "## what is variable in python?"
   ]
  },
  {
   "cell_type": "markdown",
   "id": "ad2fe2a4",
   "metadata": {},
   "source": [
    "A variable in Python serves as a named storage location in the computer's memory, used to hold data values. It allows programs to store, retrieve, and manipulate information during execution. Unlike some other programming languages, Python doesn't require explicit declaration of a variable's data type; it dynamically infers the type based on the assigned value.\n",
    "When naming variables in Python, certain rules should be followed: \n",
    "    \n",
    "1. Variable names can consist of letters, digits, and underscores.\n",
    "\n",
    "2. They cannot begin with a digit.\n",
    "\n",
    "3. Variable names are case-sensitive (myVar and myvar are considered different).\n",
    "\n",
    "4. Avoid using Python keywords (e.g., if, else, for) as variable names."
   ]
  },
  {
   "cell_type": "raw",
   "id": "aa6e08dc",
   "metadata": {},
   "source": [
    "# Examples of variable assignment\n",
    "name = \"Alice\"  # String data type\n",
    "age = 30        # Integer data type\n",
    "height = 5.8    # Float data type\n",
    "is_active = True # Boolean data type\n",
    "\n",
    "# Demonstrating dynamic typing\n",
    "x = 10      # x is an integer\n",
    "x = \"Hello\" # x is now a string"
   ]
  },
  {
   "cell_type": "markdown",
   "id": "6e89f68d",
   "metadata": {},
   "source": [
    "## what are variable naming rules in python?"
   ]
  },
  {
   "cell_type": "markdown",
   "id": "e6acf501",
   "metadata": {},
   "source": [
    "Here are the rules for naming variables in Python: \n",
    "    \n",
    "1. Variable names must begin with a letter (a-z, A-Z) or an underscore (_).\n",
    "\n",
    "2. The rest of the variable name can consist of letters, numbers (0-9), and underscores.\n",
    "\n",
    "3. Variable names are case-sensitive (e.g., myVariable, myvariable, and MyVariable are all distinct).\n",
    "\n",
    "4. Reserved keywords in Python (e.g., if, else, for, while, def, class, import, True, False, None, etc.) cannot be used as variable names.\n",
    "\n",
    "5. Variable names cannot contain spaces or special characters other than the underscore."
   ]
  },
  {
   "cell_type": "markdown",
   "id": "3c2e2e68",
   "metadata": {},
   "source": [
    "## what is datatype and name of types in python?"
   ]
  },
  {
   "cell_type": "markdown",
   "id": "6b201e1f",
   "metadata": {},
   "source": [
    "A datatype in Python refers to the kind of value that a variable or an object can hold. It defines what operations can be performed on the value and how it is stored in memory.\n",
    "\n",
    "Python is a dynamically typed language, meaning you don't need to specify the type of a variable when declaring it; Python automatically determines the type during runtime."
   ]
  },
  {
   "cell_type": "raw",
   "id": "9433c7e5",
   "metadata": {},
   "source": [
    "\n",
    "Data Types\tExamples\tExplanation\tMutable/Immutable?\n",
    "\n",
    "Strings\t\"Hello!\", \"23.34\"\tText - anything between\n",
    "\n",
    "\" \"  becomes string\tImmutable\n",
    "\n",
    "Integers\t5364\tWhole numbers\tImmutable\n",
    "\n",
    "Floats\t3.1415\tDecimal Numbers\tImmutable\n",
    "\n",
    "Booleans\tTrue, False\tTruth values that represent Yes/No\tImmutable\n",
    "\n",
    "Lists\t[1,2,3,4,5]\tA collection of data,\n",
    "\n",
    "sits between  [ ]  \tMutable\n",
    "\n",
    "Tuples\t(1,2,3,4,5)\tA collection of data,\n",
    "\n",
    "sits between  ( )  \tImmutable\n",
    "\n",
    "Dictionaries\t{\"a\":1, \"b\":2, \"c\":3}\tA collection of data,\n",
    "\n",
    "sits between  { }  \tMutable"
   ]
  },
  {
   "cell_type": "markdown",
   "id": "63cd5f20",
   "metadata": {},
   "source": [
    "## what is keyword in python?"
   ]
  },
  {
   "cell_type": "markdown",
   "id": "219d4c28",
   "metadata": {},
   "source": [
    "Keywords in Python are reserved words that have predefined meanings and purposes within the language. These keywords cannot be used as identifiers (variable names, function names, etc.) because they are an integral part of Python's syntax and structure. Each keyword performs a specific task, defining the flow and logic of a Python program."
   ]
  },
  {
   "cell_type": "markdown",
   "id": "aa1165f4",
   "metadata": {},
   "source": [
    "Here's a list of common Python keywords:\n",
    "\n",
    "and, or, not: Logical operators.\n",
    "\n",
    "if, elif, else: Conditional statements.\n",
    "\n",
    "for, while: Looping constructs.\n",
    "\n",
    "break, continue: Loop control statements.\n",
    "\n",
    "def: Function definition.\n",
    "\n",
    "class: Class definition.\n",
    "\n",
    "return: Exit a function and return a value.\n",
    "\n",
    "try, except, finally: Exception handling.\n",
    "\n",
    "import, from, as: Module import statements.\n",
    "\n",
    "is: Check object identity.\n",
    "\n",
    "in: Check membership in a sequence.\n",
    "\n",
    "lambda: Anonymous function definition.\n",
    "\n",
    "pass: Null statement (placeholder).\n",
    "\n",
    "global, nonlocal: Variable scope modifiers.\n",
    "\n",
    "assert: Debugging aid.\n",
    "\n",
    "with: Context management.\n",
    "\n",
    "yield: Generator function.\n",
    "\n",
    "async, await: Asynchronous programming.\n",
    "\n",
    "True, False: Boolean values.\n",
    "\n",
    "None: Represents the absence of a value."
   ]
  },
  {
   "cell_type": "markdown",
   "id": "c794ca4c",
   "metadata": {},
   "source": [
    "Keywords are case-sensitive and must be used exactly as defined. They are fundamental to writing correct and understandable Python code, guiding the interpreter in executing instructions."
   ]
  },
  {
   "cell_type": "code",
   "execution_count": null,
   "id": "5474232b",
   "metadata": {},
   "outputs": [],
   "source": []
  },
  {
   "cell_type": "code",
   "execution_count": null,
   "id": "b15b7b49",
   "metadata": {},
   "outputs": [],
   "source": []
  },
  {
   "cell_type": "code",
   "execution_count": null,
   "id": "2555ee4b",
   "metadata": {},
   "outputs": [],
   "source": []
  }
 ],
 "metadata": {
  "kernelspec": {
   "display_name": "Python 3 (ipykernel)",
   "language": "python",
   "name": "python3"
  },
  "language_info": {
   "codemirror_mode": {
    "name": "ipython",
    "version": 3
   },
   "file_extension": ".py",
   "mimetype": "text/x-python",
   "name": "python",
   "nbconvert_exporter": "python",
   "pygments_lexer": "ipython3",
   "version": "3.9.7"
  }
 },
 "nbformat": 4,
 "nbformat_minor": 5
}
